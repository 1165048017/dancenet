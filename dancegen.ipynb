{
 "cells": [
  {
   "cell_type": "code",
   "execution_count": 7,
   "metadata": {
    "scrolled": true
   },
   "outputs": [],
   "source": [
    "from model import vae,decoder\n",
    "from keras.layers import Dropout\n",
    "from keras.layers import LSTM\n",
    "from keras.layers import Dense\n",
    "from keras.layers import Reshape\n",
    "from keras.layers import Input\n",
    "from keras.models import Model\n",
    "from keras.optimizers import adam\n",
    "from keras.callbacks import ModelCheckpoint\n",
    "import cv2\n",
    "import numpy as np\n",
    "import mdn\n",
    "from sklearn.preprocessing import MinMaxScaler"
   ]
  },
  {
   "cell_type": "markdown",
   "metadata": {},
   "source": [
    "# Load encoded data"
   ]
  },
  {
   "cell_type": "code",
   "execution_count": 9,
   "metadata": {
    "scrolled": true
   },
   "outputs": [
    {
     "name": "stdout",
     "output_type": "stream",
     "text": [
      "(20210, 1, 128)\n"
     ]
    }
   ],
   "source": [
    "data = np.load('./data/lv.npy')\n",
    "print(data.shape)"
   ]
  },
  {
   "cell_type": "markdown",
   "metadata": {},
   "source": [
    "# Normalize data"
   ]
  },
  {
   "cell_type": "code",
   "execution_count": 10,
   "metadata": {},
   "outputs": [],
   "source": [
    "data = np.array(data).reshape(-1,128)\n",
    "scaler = MinMaxScaler(feature_range=(0, 1))\n",
    "scaler = scaler.fit(data)\n",
    "data =  scaler.transform(data)"
   ]
  },
  {
   "cell_type": "code",
   "execution_count": 11,
   "metadata": {},
   "outputs": [],
   "source": [
    "numComponents = 24\n",
    "outputDim = 128"
   ]
  },
  {
   "cell_type": "markdown",
   "metadata": {},
   "source": [
    "# LSTM + MDN "
   ]
  },
  {
   "cell_type": "code",
   "execution_count": 12,
   "metadata": {
    "scrolled": true
   },
   "outputs": [
    {
     "name": "stdout",
     "output_type": "stream",
     "text": [
      "_________________________________________________________________\n",
      "Layer (type)                 Output Shape              Param #   \n",
      "=================================================================\n",
      "input_2 (InputLayer)         (None, 128)               0         \n",
      "_________________________________________________________________\n",
      "reshape_2 (Reshape)          (None, 1, 128)            0         \n",
      "_________________________________________________________________\n",
      "lstm_1 (LSTM)                (None, 1, 512)            1312768   \n",
      "_________________________________________________________________\n",
      "dropout_1 (Dropout)          (None, 1, 512)            0         \n",
      "_________________________________________________________________\n",
      "lstm_2 (LSTM)                (None, 1, 512)            2099200   \n",
      "_________________________________________________________________\n",
      "dropout_2 (Dropout)          (None, 1, 512)            0         \n",
      "_________________________________________________________________\n",
      "lstm_3 (LSTM)                (None, 512)               2099200   \n",
      "_________________________________________________________________\n",
      "dropout_3 (Dropout)          (None, 512)               0         \n",
      "_________________________________________________________________\n",
      "dense_6 (Dense)              (None, 1000)              513000    \n",
      "_________________________________________________________________\n",
      "mdn_1 (MDN)                  (None, 128)               6174168   \n",
      "=================================================================\n",
      "Total params: 12,198,336\n",
      "Trainable params: 12,198,336\n",
      "Non-trainable params: 0\n",
      "_________________________________________________________________\n",
      "None\n"
     ]
    }
   ],
   "source": [
    "inputs = Input(shape=(128,))\n",
    "x = Reshape((1,128))(inputs)\n",
    "x = LSTM(512, return_sequences=True,input_shape=(1,128))(x)\n",
    "x = Dropout(0.40)(x)\n",
    "x = LSTM(512, return_sequences=True)(x)\n",
    "x = Dropout(0.40)(x)\n",
    "x = LSTM(512)(x)\n",
    "x = Dropout(0.40)(x)\n",
    "x = Dense(1000,activation='relu')(x)\n",
    "outputs = mdn.MDN(outputDim, numComponents)(x)\n",
    "model = Model(inputs=inputs,outputs=outputs)\n",
    "print(model.summary())"
   ]
  },
  {
   "cell_type": "code",
   "execution_count": 13,
   "metadata": {},
   "outputs": [],
   "source": [
    "opt = adam(lr=0.0005)\n",
    "model.compile(loss=mdn.get_mixture_loss_func(outputDim,numComponents),optimizer=opt)"
   ]
  },
  {
   "cell_type": "code",
   "execution_count": null,
   "metadata": {
    "scrolled": true
   },
   "outputs": [],
   "source": [
    "X = data[0:len(data)-1]\n",
    "Y = data[1:len(data)]\n",
    "checkpoint = ModelCheckpoint('./weights/gendance.h5', monitor='loss', verbose=1, save_best_only=True, mode='auto')\n",
    "callbacks_list = [checkpoint]\n",
    "model.fit(X,Y,batch_size=1024, verbose=1, shuffle=False, validation_split=0.20, epochs=10000, callbacks=callbacks_list)"
   ]
  },
  {
   "cell_type": "markdown",
   "metadata": {},
   "source": [
    "# Load weights"
   ]
  },
  {
   "cell_type": "code",
   "execution_count": 14,
   "metadata": {},
   "outputs": [],
   "source": [
    "vae.load_weights(\"./weights/vae_cnn.h5\")\n",
    "model.load_weights(\"./weights/gendance.h5\")"
   ]
  },
  {
   "cell_type": "markdown",
   "metadata": {},
   "source": [
    "# Generate Video"
   ]
  },
  {
   "cell_type": "code",
   "execution_count": 15,
   "metadata": {
    "scrolled": true
   },
   "outputs": [],
   "source": [
    "fourcc = cv2.VideoWriter_fourcc(*'mp4v')\n",
    "video = cv2.VideoWriter(\"out.mp4\", fourcc, 30.0, (208, 120))\n",
    "lv_in = data[2000]\n",
    "for i in range(100):\n",
    "    input = np.array(lv_in).reshape(1,128)\n",
    "    lv_out = model.predict(input)\n",
    "    shape = np.array(lv_out).shape[1]\n",
    "    lv_out = np.array(lv_out).reshape(shape)\n",
    "    lv_out = mdn.sample_from_output(lv_out,128,numComponents,temp=0.05)\n",
    "    lv_out = scaler.inverse_transform(lv_out)\n",
    "    img = decoder.predict(np.array(lv_out).reshape(1,128))\n",
    "    \n",
    "    img = np.array(img).reshape(120,208,1)\n",
    "    img = img * 255\n",
    "    img = np.array(img).astype(\"uint8\")\n",
    "    img = cv2.cvtColor(img,cv2.COLOR_GRAY2RGB)\n",
    "    lv_in = lv_out\n",
    "    video.write(img)\n",
    "video.release()\n"
   ]
  }
 ],
 "metadata": {
  "kernelspec": {
   "display_name": "Python 3",
   "language": "python",
   "name": "python3"
  },
  "language_info": {
   "codemirror_mode": {
    "name": "ipython",
    "version": 3
   },
   "file_extension": ".py",
   "mimetype": "text/x-python",
   "name": "python",
   "nbconvert_exporter": "python",
   "pygments_lexer": "ipython3",
   "version": "3.5.2"
  }
 },
 "nbformat": 4,
 "nbformat_minor": 2
}
